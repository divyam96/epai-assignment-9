{
  "nbformat": 4,
  "nbformat_minor": 0,
  "metadata": {
    "colab": {
      "name": "EPAi4-Assignment-9-Polygons.ipynb",
      "provenance": []
    },
    "kernelspec": {
      "name": "python3",
      "display_name": "Python 3"
    },
    "language_info": {
      "name": "python"
    }
  },
  "cells": [
    {
      "cell_type": "code",
      "execution_count": null,
      "metadata": {
        "colab": {
          "base_uri": "https://localhost:8080/"
        },
        "id": "A13miWXR_Z0c",
        "outputId": "a71b2a4a-4734-409b-fdd5-22e771166761"
      },
      "outputs": [
        {
          "output_type": "stream",
          "name": "stdout",
          "text": [
            "Cloning into 'epai-assignment-9'...\n",
            "remote: Enumerating objects: 21, done.\u001b[K\n",
            "remote: Counting objects: 100% (21/21), done.\u001b[K\n",
            "remote: Compressing objects: 100% (15/15), done.\u001b[K\n",
            "remote: Total 21 (delta 2), reused 15 (delta 1), pack-reused 0\u001b[K\n",
            "Unpacking objects: 100% (21/21), done.\n"
          ]
        }
      ],
      "source": [
        "!git clone https://github.com/divyam96/epai-assignment-9"
      ]
    },
    {
      "cell_type": "code",
      "source": [
        "%cd epai-assignment-9/"
      ],
      "metadata": {
        "colab": {
          "base_uri": "https://localhost:8080/"
        },
        "id": "sTrTftfW_8GL",
        "outputId": "1c50e1a4-d56b-4a19-f415-625ace0e6667"
      },
      "execution_count": null,
      "outputs": [
        {
          "output_type": "stream",
          "name": "stdout",
          "text": [
            "/content/epai-assignment-9\n"
          ]
        }
      ]
    },
    {
      "cell_type": "markdown",
      "source": [
        "## Objective 1 - Polygon"
      ],
      "metadata": {
        "id": "VoNCHz4L_yTk"
      }
    },
    {
      "cell_type": "code",
      "source": [
        "from polygon import Polygon"
      ],
      "metadata": {
        "id": "QGQ-CMll_jtY"
      },
      "execution_count": null,
      "outputs": []
    },
    {
      "cell_type": "code",
      "source": [
        "p = Polygon(numberofvertices = 6, circumradius=3)"
      ],
      "metadata": {
        "id": "VqYA05eZBx5D"
      },
      "execution_count": null,
      "outputs": []
    },
    {
      "cell_type": "code",
      "source": [
        "p"
      ],
      "metadata": {
        "colab": {
          "base_uri": "https://localhost:8080/"
        },
        "id": "WNJrvxNwB1V0",
        "outputId": "953ab99a-e95a-4f72-8bbc-9c26e285db33"
      },
      "execution_count": null,
      "outputs": [
        {
          "output_type": "execute_result",
          "data": {
            "text/plain": [
              "For a polygon with the number of vertices 6 and a circumradius of 3\n",
              ",         The measure of interior angle is 120.0\n",
              ".         The measure of edge length is 3.0\n",
              ".         The measure of apothem is 2.6\n",
              ".         The measure of area is 23.4\n",
              ".         The measure of perimeter is 18.0"
            ]
          },
          "metadata": {},
          "execution_count": 5
        }
      ]
    },
    {
      "cell_type": "code",
      "source": [
        "p1 = Polygon(numberofvertices = 6, circumradius=3)"
      ],
      "metadata": {
        "id": "JgxiNQqVBGH_"
      },
      "execution_count": null,
      "outputs": []
    },
    {
      "cell_type": "code",
      "source": [
        "p1 == p"
      ],
      "metadata": {
        "colab": {
          "base_uri": "https://localhost:8080/"
        },
        "id": "Iu6NMntMB7at",
        "outputId": "13f1a832-014b-48ef-8fc3-8477f79614b4"
      },
      "execution_count": null,
      "outputs": [
        {
          "output_type": "execute_result",
          "data": {
            "text/plain": [
              "True"
            ]
          },
          "metadata": {},
          "execution_count": 7
        }
      ]
    },
    {
      "cell_type": "code",
      "source": [
        "p2 = Polygon(numberofvertices = 8, circumradius=3)"
      ],
      "metadata": {
        "id": "sLdcdyIUBgrk"
      },
      "execution_count": null,
      "outputs": []
    },
    {
      "cell_type": "code",
      "source": [
        "p2 == p1"
      ],
      "metadata": {
        "colab": {
          "base_uri": "https://localhost:8080/"
        },
        "id": "vvALa6PqB-uG",
        "outputId": "646f08be-0741-4eb0-ae9d-03b573419329"
      },
      "execution_count": null,
      "outputs": [
        {
          "output_type": "execute_result",
          "data": {
            "text/plain": [
              "False"
            ]
          },
          "metadata": {},
          "execution_count": 9
        }
      ]
    },
    {
      "cell_type": "code",
      "source": [
        "p2 > p1"
      ],
      "metadata": {
        "colab": {
          "base_uri": "https://localhost:8080/"
        },
        "id": "lmCVL3Q3Buoa",
        "outputId": "f17f0519-bd07-4924-d247-1fdd4d44d300"
      },
      "execution_count": null,
      "outputs": [
        {
          "output_type": "execute_result",
          "data": {
            "text/plain": [
              "True"
            ]
          },
          "metadata": {},
          "execution_count": 10
        }
      ]
    },
    {
      "cell_type": "markdown",
      "source": [
        "## Objective 2 - Polygon Sequence"
      ],
      "metadata": {
        "id": "pxFwxy15CK6g"
      }
    },
    {
      "cell_type": "code",
      "source": [
        "from polygon import PolygonSequence"
      ],
      "metadata": {
        "id": "dsfB3mzrCPe8"
      },
      "execution_count": null,
      "outputs": []
    },
    {
      "cell_type": "code",
      "source": [
        "ps = PolygonSequence(10, 5)"
      ],
      "metadata": {
        "id": "ZOCYsPlsEagw"
      },
      "execution_count": null,
      "outputs": []
    },
    {
      "cell_type": "code",
      "source": [
        "ps"
      ],
      "metadata": {
        "colab": {
          "base_uri": "https://localhost:8080/"
        },
        "id": "HXH0dq1cEkq2",
        "outputId": "6c56ca15-e674-401e-e8b8-34b2ee9875e3"
      },
      "execution_count": null,
      "outputs": [
        {
          "output_type": "execute_result",
          "data": {
            "text/plain": [
              "This is a PolygonSequence class with polygons upto 10 vertices and 5 circumradius"
            ]
          },
          "metadata": {},
          "execution_count": 13
        }
      ]
    },
    {
      "cell_type": "code",
      "source": [
        "p = ps[6] # acessing elment by index"
      ],
      "metadata": {
        "id": "nmxmF28NEehQ"
      },
      "execution_count": null,
      "outputs": []
    },
    {
      "cell_type": "code",
      "source": [
        "ps[:5] # using slicing"
      ],
      "metadata": {
        "colab": {
          "base_uri": "https://localhost:8080/"
        },
        "id": "N88tambkEhKN",
        "outputId": "bec609cf-27c9-4098-c5b2-fef3883595e5"
      },
      "execution_count": null,
      "outputs": [
        {
          "output_type": "stream",
          "name": "stdout",
          "text": [
            "requesting [None:5:None]\n"
          ]
        },
        {
          "output_type": "execute_result",
          "data": {
            "text/plain": [
              "[None,\n",
              " None,\n",
              " None,\n",
              " For a polygon with the number of vertices 3 and a circumradius of 5\n",
              " ,         The measure of interior angle is 60.0\n",
              " .         The measure of edge length is 8.66\n",
              " .         The measure of apothem is 2.5\n",
              " .         The measure of area is 32.48\n",
              " .         The measure of perimeter is 25.98,\n",
              " For a polygon with the number of vertices 4 and a circumradius of 5\n",
              " ,         The measure of interior angle is 90.0\n",
              " .         The measure of edge length is 7.07\n",
              " .         The measure of apothem is 3.54\n",
              " .         The measure of area is 50.06\n",
              " .         The measure of perimeter is 28.28]"
            ]
          },
          "metadata": {},
          "execution_count": 15
        }
      ]
    },
    {
      "cell_type": "code",
      "source": [
        "ps.maximum_efficient_polygon()"
      ],
      "metadata": {
        "colab": {
          "base_uri": "https://localhost:8080/"
        },
        "id": "y6rJgR1KEsfK",
        "outputId": "2a88de72-f5be-42a5-88ef-6baaabb808a4"
      },
      "execution_count": null,
      "outputs": [
        {
          "output_type": "stream",
          "name": "stdout",
          "text": [
            "Maximum efficient polygon:  9\n",
            "Max efficiency:  2.34990253411306\n"
          ]
        },
        {
          "output_type": "execute_result",
          "data": {
            "text/plain": [
              "2.34990253411306"
            ]
          },
          "metadata": {},
          "execution_count": 16
        }
      ]
    },
    {
      "cell_type": "code",
      "source": [
        ""
      ],
      "metadata": {
        "id": "ib2moN4XE4lm"
      },
      "execution_count": null,
      "outputs": []
    }
  ]
}